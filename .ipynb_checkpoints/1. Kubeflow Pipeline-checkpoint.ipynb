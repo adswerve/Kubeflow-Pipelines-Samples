{
 "cells": [
  {
   "cell_type": "markdown",
   "metadata": {},
   "source": [
    "# First Kubeflow Pipeline"
   ]
  },
  {
   "cell_type": "markdown",
   "metadata": {},
   "source": [
    "## Install the SDK"
   ]
  },
  {
   "cell_type": "code",
   "execution_count": null,
   "metadata": {},
   "outputs": [],
   "source": [
    "!pip install kfp --upgrade"
   ]
  },
  {
   "cell_type": "markdown",
   "metadata": {},
   "source": [
    "## Create a lightweight component"
   ]
  },
  {
   "cell_type": "code",
   "execution_count": 22,
   "metadata": {},
   "outputs": [],
   "source": [
    "from kfp.components import func_to_container_op\n",
    "from kfp import dsl\n",
    "\n",
    "@func_to_container_op\n",
    "def gcd_op(a: int, b:int) -> int:\n",
    "    \"\"\"Find the Greatest common divider, using Eucledian algorithm\"\"\"\n",
    "    while(b): \n",
    "        a, b = b, a % b \n",
    "  \n",
    "    return a"
   ]
  },
  {
   "cell_type": "markdown",
   "metadata": {},
   "source": [
    "## Set up a Pipeline"
   ]
  },
  {
   "cell_type": "code",
   "execution_count": 34,
   "metadata": {},
   "outputs": [],
   "source": [
    "@dsl.pipeline(\n",
    "    name='GCD3 pipeline',\n",
    "    description='Calculates a Greatest Common Divider of 3 numbers (a,b,c).'\n",
    ")\n",
    "def gcd3_pipeline(\n",
    "  a:int = 50, \n",
    "  b:int = 35,\n",
    "  c:int = 20\n",
    "):\n",
    "    gcd_ab = gcd_op(a, b)\n",
    "    gcd_abc = gcd_op(gcd_ab.output, c)\n"
   ]
  },
  {
   "cell_type": "markdown",
   "metadata": {},
   "source": [
    "## Generate a compressed version of the pipeline yaml"
   ]
  },
  {
   "cell_type": "code",
   "execution_count": 35,
   "metadata": {},
   "outputs": [],
   "source": [
    "from kfp import compiler\n",
    "pipeline_name = gcd3_pipeline.__name__ + '.zip'\n",
    "compiler.Compiler().compile(gcd3_pipeline, pipeline_name)"
   ]
  }
 ],
 "metadata": {
  "kernelspec": {
   "display_name": "Python 3",
   "language": "python",
   "name": "python3"
  },
  "language_info": {
   "codemirror_mode": {
    "name": "ipython",
    "version": 3
   },
   "file_extension": ".py",
   "mimetype": "text/x-python",
   "name": "python",
   "nbconvert_exporter": "python",
   "pygments_lexer": "ipython3",
   "version": "3.7.6"
  }
 },
 "nbformat": 4,
 "nbformat_minor": 4
}
